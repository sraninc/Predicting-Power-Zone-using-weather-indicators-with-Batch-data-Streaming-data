{
 "cells": [
  {
   "cell_type": "markdown",
   "id": "b3bcecf5-7fc8-4100-b6e6-2cd05272f9f4",
   "metadata": {},
   "source": [
    "##### Produce Data\n",
    "\n",
    "Here we will produce our streaming data by sampling three rows from the regular dataframe `power_streaming_data.csv` and output those rows in the .csv file form and store those files in the `csv_files_folder`. These files will then be used in model fitting and creating predictions. The predictions will be available on the console."
   ]
  },
  {
   "cell_type": "code",
   "execution_count": null,
   "id": "2b3b5cc9-3e25-41e0-9723-9bb3d24a278e",
   "metadata": {},
   "outputs": [],
   "source": [
    "import pandas as pd\n",
    "import os\n",
    "import time\n",
    "from pathlib import Path\n",
    "\n",
    "# Read the streaming data into a pandas DataFrame\n",
    "streaming_data = pd.read_csv(\"power_streaming_data.csv\")\n",
    "\n",
    "# Create the output directory if it doesn't exist\n",
    "output_dir = \"csv_files_folder\"\n",
    "Path(output_dir).mkdir(parents=True, exist_ok=True)\n",
    "\n",
    "for i in range(50):\n",
    "    # Randomly sample three rows from the DataFrame\n",
    "    sample_data = streaming_data.sample(n=3)\n",
    "\n",
    "    # Write the sampled rows to a .csv file in the cv_files_folder without indices\n",
    "    sample_data.to_csv(os.path.join(output_dir, f\"sample_{i}.csv\"), index=False)\n",
    "\n",
    "    # Pause for 10 seconds before the next iteration\n",
    "    time.sleep(10)\n"
   ]
  }
 ],
 "metadata": {
  "kernelspec": {
   "display_name": "Python 3 (ipykernel)",
   "language": "python",
   "name": "python3"
  },
  "language_info": {
   "codemirror_mode": {
    "name": "ipython",
    "version": 3
   },
   "file_extension": ".py",
   "mimetype": "text/x-python",
   "name": "python",
   "nbconvert_exporter": "python",
   "pygments_lexer": "ipython3",
   "version": "3.10.8"
  }
 },
 "nbformat": 4,
 "nbformat_minor": 5
}
